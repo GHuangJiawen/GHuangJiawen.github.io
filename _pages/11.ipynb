{
 "cells": [
  {
   "cell_type": "markdown",
   "id": "1657d7a4-acd1-438d-b564-9ed6cea0c9c8",
   "metadata": {},
   "source": [
    "123564636341431412"
   ]
  },
  {
   "cell_type": "code",
   "execution_count": null,
   "id": "650723f0-5d88-4e07-b757-961f8050b6a0",
   "metadata": {},
   "outputs": [],
   "source": []
  }
 ],
 "metadata": {
  "kernelspec": {
   "display_name": "Python [conda env:base] *",
   "language": "python",
   "name": "conda-base-py"
  },
  "language_info": {
   "codemirror_mode": {
    "name": "ipython",
    "version": 3
   },
   "file_extension": ".py",
   "mimetype": "text/x-python",
   "name": "python",
   "nbconvert_exporter": "python",
   "pygments_lexer": "ipython3",
   "version": "3.12.7"
  }
 },
 "nbformat": 4,
 "nbformat_minor": 5
}
