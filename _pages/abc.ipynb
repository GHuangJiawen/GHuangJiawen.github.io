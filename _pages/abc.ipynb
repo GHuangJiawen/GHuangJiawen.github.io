{
 "cells": [
  {
   "cell_type": "markdown",
   "id": "80eb9bf1-2aaa-4e60-80ed-109c83ab6ef1",
   "metadata": {},
   "source": [
    "#abc"
   ]
  },
  {
   "cell_type": "code",
   "execution_count": 1,
   "id": "66840b8a-a9e4-4206-b33d-abc598b000cb",
   "metadata": {},
   "outputs": [
    {
     "name": "stdout",
     "output_type": "stream",
     "text": [
      "Hello World\n"
     ]
    }
   ],
   "source": [
    "print(\"Hello World\")"
   ]
  },
  {
   "cell_type": "code",
   "execution_count": null,
   "id": "a9bad2e0-e62f-486e-8d76-74a4e608c5d1",
   "metadata": {},
   "outputs": [],
   "source": []
  }
 ],
 "metadata": {
  "kernelspec": {
   "display_name": "Python [conda env:base] *",
   "language": "python",
   "name": "conda-base-py"
  },
  "language_info": {
   "codemirror_mode": {
    "name": "ipython",
    "version": 3
   },
   "file_extension": ".py",
   "mimetype": "text/x-python",
   "name": "python",
   "nbconvert_exporter": "python",
   "pygments_lexer": "ipython3",
   "version": "3.12.7"
  }
 },
 "nbformat": 4,
 "nbformat_minor": 5
}
